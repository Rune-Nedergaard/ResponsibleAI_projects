{
 "cells": [
  {
   "cell_type": "code",
   "execution_count": 1,
   "metadata": {
    "collapsed": true,
    "pycharm": {
     "name": "#%%\n"
    }
   },
   "outputs": [],
   "source": [
    "from biasbalancer.balancer import BiasBalancer\n",
    "import pandas as pd"
   ]
  },
  {
   "cell_type": "code",
   "execution_count": 2,
   "outputs": [
    {
     "data": {
      "text/plain": "     person_id  credit_score  nn_pred   nn_prob  personal_status\n0            0           1.0    False  0.288408                0\n1            1           0.0    False  0.311108                1\n2            2           0.0    False  0.340933                1\n3            3           0.0    False  0.265126                0\n4            4           0.0    False  0.342001                1\n..         ...           ...      ...       ...              ...\n295        295           0.0    False  0.134385                0\n296        296           1.0    False  0.340748                1\n297        297           0.0    False  0.154411                1\n298        298           0.0    False  0.387200                1\n299        299           1.0    False  0.475970                0\n\n[300 rows x 5 columns]",
      "text/html": "<div>\n<style scoped>\n    .dataframe tbody tr th:only-of-type {\n        vertical-align: middle;\n    }\n\n    .dataframe tbody tr th {\n        vertical-align: top;\n    }\n\n    .dataframe thead th {\n        text-align: right;\n    }\n</style>\n<table border=\"1\" class=\"dataframe\">\n  <thead>\n    <tr style=\"text-align: right;\">\n      <th></th>\n      <th>person_id</th>\n      <th>credit_score</th>\n      <th>nn_pred</th>\n      <th>nn_prob</th>\n      <th>personal_status</th>\n    </tr>\n  </thead>\n  <tbody>\n    <tr>\n      <th>0</th>\n      <td>0</td>\n      <td>1.0</td>\n      <td>False</td>\n      <td>0.288408</td>\n      <td>0</td>\n    </tr>\n    <tr>\n      <th>1</th>\n      <td>1</td>\n      <td>0.0</td>\n      <td>False</td>\n      <td>0.311108</td>\n      <td>1</td>\n    </tr>\n    <tr>\n      <th>2</th>\n      <td>2</td>\n      <td>0.0</td>\n      <td>False</td>\n      <td>0.340933</td>\n      <td>1</td>\n    </tr>\n    <tr>\n      <th>3</th>\n      <td>3</td>\n      <td>0.0</td>\n      <td>False</td>\n      <td>0.265126</td>\n      <td>0</td>\n    </tr>\n    <tr>\n      <th>4</th>\n      <td>4</td>\n      <td>0.0</td>\n      <td>False</td>\n      <td>0.342001</td>\n      <td>1</td>\n    </tr>\n    <tr>\n      <th>...</th>\n      <td>...</td>\n      <td>...</td>\n      <td>...</td>\n      <td>...</td>\n      <td>...</td>\n    </tr>\n    <tr>\n      <th>295</th>\n      <td>295</td>\n      <td>0.0</td>\n      <td>False</td>\n      <td>0.134385</td>\n      <td>0</td>\n    </tr>\n    <tr>\n      <th>296</th>\n      <td>296</td>\n      <td>1.0</td>\n      <td>False</td>\n      <td>0.340748</td>\n      <td>1</td>\n    </tr>\n    <tr>\n      <th>297</th>\n      <td>297</td>\n      <td>0.0</td>\n      <td>False</td>\n      <td>0.154411</td>\n      <td>1</td>\n    </tr>\n    <tr>\n      <th>298</th>\n      <td>298</td>\n      <td>0.0</td>\n      <td>False</td>\n      <td>0.387200</td>\n      <td>1</td>\n    </tr>\n    <tr>\n      <th>299</th>\n      <td>299</td>\n      <td>1.0</td>\n      <td>False</td>\n      <td>0.475970</td>\n      <td>0</td>\n    </tr>\n  </tbody>\n</table>\n<p>300 rows × 5 columns</p>\n</div>"
     },
     "execution_count": 2,
     "metadata": {},
     "output_type": "execute_result"
    }
   ],
   "source": [
    "our_preds = pd.read_csv('data/subset_fair.csv')\n",
    "our_preds"
   ],
   "metadata": {
    "collapsed": false,
    "pycharm": {
     "name": "#%%\n"
    }
   }
  },
  {
   "cell_type": "code",
   "execution_count": 3,
   "outputs": [
    {
     "data": {
      "text/plain": "     person_id  credit_score     sex  age   nn_prob  nn_pred\n0            0             0    Male   67  0.036081    False\n1            1             1  Female   22  0.658763     True\n2            2             0    Male   49  0.063179    False\n3            3             0    Male   45  0.534449     True\n4            4             1    Male   53  0.628133     True\n..         ...           ...     ...  ...       ...      ...\n995        995             0  Female   31  0.072980    False\n996        996             0    Male   40  0.582506     True\n997        997             0    Male   38  0.043889    False\n998        998             1    Male   23  0.594179     True\n999        999             0    Male   27  0.145870    False\n\n[1000 rows x 6 columns]",
      "text/html": "<div>\n<style scoped>\n    .dataframe tbody tr th:only-of-type {\n        vertical-align: middle;\n    }\n\n    .dataframe tbody tr th {\n        vertical-align: top;\n    }\n\n    .dataframe thead th {\n        text-align: right;\n    }\n</style>\n<table border=\"1\" class=\"dataframe\">\n  <thead>\n    <tr style=\"text-align: right;\">\n      <th></th>\n      <th>person_id</th>\n      <th>credit_score</th>\n      <th>sex</th>\n      <th>age</th>\n      <th>nn_prob</th>\n      <th>nn_pred</th>\n    </tr>\n  </thead>\n  <tbody>\n    <tr>\n      <th>0</th>\n      <td>0</td>\n      <td>0</td>\n      <td>Male</td>\n      <td>67</td>\n      <td>0.036081</td>\n      <td>False</td>\n    </tr>\n    <tr>\n      <th>1</th>\n      <td>1</td>\n      <td>1</td>\n      <td>Female</td>\n      <td>22</td>\n      <td>0.658763</td>\n      <td>True</td>\n    </tr>\n    <tr>\n      <th>2</th>\n      <td>2</td>\n      <td>0</td>\n      <td>Male</td>\n      <td>49</td>\n      <td>0.063179</td>\n      <td>False</td>\n    </tr>\n    <tr>\n      <th>3</th>\n      <td>3</td>\n      <td>0</td>\n      <td>Male</td>\n      <td>45</td>\n      <td>0.534449</td>\n      <td>True</td>\n    </tr>\n    <tr>\n      <th>4</th>\n      <td>4</td>\n      <td>1</td>\n      <td>Male</td>\n      <td>53</td>\n      <td>0.628133</td>\n      <td>True</td>\n    </tr>\n    <tr>\n      <th>...</th>\n      <td>...</td>\n      <td>...</td>\n      <td>...</td>\n      <td>...</td>\n      <td>...</td>\n      <td>...</td>\n    </tr>\n    <tr>\n      <th>995</th>\n      <td>995</td>\n      <td>0</td>\n      <td>Female</td>\n      <td>31</td>\n      <td>0.072980</td>\n      <td>False</td>\n    </tr>\n    <tr>\n      <th>996</th>\n      <td>996</td>\n      <td>0</td>\n      <td>Male</td>\n      <td>40</td>\n      <td>0.582506</td>\n      <td>True</td>\n    </tr>\n    <tr>\n      <th>997</th>\n      <td>997</td>\n      <td>0</td>\n      <td>Male</td>\n      <td>38</td>\n      <td>0.043889</td>\n      <td>False</td>\n    </tr>\n    <tr>\n      <th>998</th>\n      <td>998</td>\n      <td>1</td>\n      <td>Male</td>\n      <td>23</td>\n      <td>0.594179</td>\n      <td>True</td>\n    </tr>\n    <tr>\n      <th>999</th>\n      <td>999</td>\n      <td>0</td>\n      <td>Male</td>\n      <td>27</td>\n      <td>0.145870</td>\n      <td>False</td>\n    </tr>\n  </tbody>\n</table>\n<p>1000 rows × 6 columns</p>\n</div>"
     },
     "execution_count": 3,
     "metadata": {},
     "output_type": "execute_result"
    }
   ],
   "source": [
    "their_preds = pd.read_csv('data/german_credit_nn_pred.csv')\n",
    "their_preds"
   ],
   "metadata": {
    "collapsed": false,
    "pycharm": {
     "name": "#%%\n"
    }
   }
  },
  {
   "cell_type": "code",
   "execution_count": 26,
   "outputs": [],
   "source": [
    "#normalized"
   ],
   "metadata": {
    "collapsed": false,
    "pycharm": {
     "name": "#%%\n"
    }
   }
  },
  {
   "cell_type": "code",
   "execution_count": 4,
   "outputs": [
    {
     "name": "stderr",
     "output_type": "stream",
     "text": [
      "C:\\Users\\rune7\\Documents\\GitHub\\Fairness-oriented-interpretability-of-predictive-algorithms\\src_biasbalancer\\biasbalancer\\balancer.py:363: FutureWarning: The frame.append method is deprecated and will be removed from pandas in a future version. Use pandas.concat instead.\n",
      "  df = df.append(tmp_df)\n",
      "C:\\Users\\rune7\\Documents\\GitHub\\Fairness-oriented-interpretability-of-predictive-algorithms\\src_biasbalancer\\biasbalancer\\balancer.py:363: FutureWarning: The frame.append method is deprecated and will be removed from pandas in a future version. Use pandas.concat instead.\n",
      "  df = df.append(tmp_df)\n"
     ]
    }
   ],
   "source": [
    "german_w_fp = 0.9\n",
    "theirs = BiasBalancer(\n",
    "    data = their_preds,\n",
    "    y_name = \"credit_score\",\n",
    "    y_hat_name = \"nn_pred\",\n",
    "    a_name = \"sex\",\n",
    "    r_name = \"nn_prob\",\n",
    "    w_fp = german_w_fp,\n",
    "    model_name='German Credit Scores')\n",
    "#this works"
   ],
   "metadata": {
    "collapsed": false,
    "pycharm": {
     "name": "#%%\n"
    }
   }
  },
  {
   "cell_type": "code",
   "execution_count": 6,
   "outputs": [
    {
     "name": "stderr",
     "output_type": "stream",
     "text": [
      "C:\\Users\\rune7\\Documents\\GitHub\\Fairness-oriented-interpretability-of-predictive-algorithms\\src_biasbalancer\\biasbalancer\\balancer.py:363: FutureWarning: The frame.append method is deprecated and will be removed from pandas in a future version. Use pandas.concat instead.\n",
      "  df = df.append(tmp_df)\n",
      "C:\\Users\\rune7\\Documents\\GitHub\\Fairness-oriented-interpretability-of-predictive-algorithms\\src_biasbalancer\\biasbalancer\\balancer.py:363: FutureWarning: The frame.append method is deprecated and will be removed from pandas in a future version. Use pandas.concat instead.\n",
      "  df = df.append(tmp_df)\n"
     ]
    },
    {
     "ename": "KeyError",
     "evalue": "'TP'",
     "output_type": "error",
     "traceback": [
      "\u001B[1;31m---------------------------------------------------------------------------\u001B[0m",
      "\u001B[1;31mKeyError\u001B[0m                                  Traceback (most recent call last)",
      "File \u001B[1;32m~\\anaconda3\\envs\\fair\\lib\\site-packages\\pandas\\core\\indexes\\base.py:3621\u001B[0m, in \u001B[0;36mIndex.get_loc\u001B[1;34m(self, key, method, tolerance)\u001B[0m\n\u001B[0;32m   3620\u001B[0m \u001B[38;5;28;01mtry\u001B[39;00m:\n\u001B[1;32m-> 3621\u001B[0m     \u001B[38;5;28;01mreturn\u001B[39;00m \u001B[38;5;28;43mself\u001B[39;49m\u001B[38;5;241;43m.\u001B[39;49m\u001B[43m_engine\u001B[49m\u001B[38;5;241;43m.\u001B[39;49m\u001B[43mget_loc\u001B[49m\u001B[43m(\u001B[49m\u001B[43mcasted_key\u001B[49m\u001B[43m)\u001B[49m\n\u001B[0;32m   3622\u001B[0m \u001B[38;5;28;01mexcept\u001B[39;00m \u001B[38;5;167;01mKeyError\u001B[39;00m \u001B[38;5;28;01mas\u001B[39;00m err:\n",
      "File \u001B[1;32m~\\anaconda3\\envs\\fair\\lib\\site-packages\\pandas\\_libs\\index.pyx:136\u001B[0m, in \u001B[0;36mpandas._libs.index.IndexEngine.get_loc\u001B[1;34m()\u001B[0m\n",
      "File \u001B[1;32m~\\anaconda3\\envs\\fair\\lib\\site-packages\\pandas\\_libs\\index.pyx:163\u001B[0m, in \u001B[0;36mpandas._libs.index.IndexEngine.get_loc\u001B[1;34m()\u001B[0m\n",
      "File \u001B[1;32mpandas\\_libs\\hashtable_class_helper.pxi:5198\u001B[0m, in \u001B[0;36mpandas._libs.hashtable.PyObjectHashTable.get_item\u001B[1;34m()\u001B[0m\n",
      "File \u001B[1;32mpandas\\_libs\\hashtable_class_helper.pxi:5206\u001B[0m, in \u001B[0;36mpandas._libs.hashtable.PyObjectHashTable.get_item\u001B[1;34m()\u001B[0m\n",
      "\u001B[1;31mKeyError\u001B[0m: 'TP'",
      "\nThe above exception was the direct cause of the following exception:\n",
      "\u001B[1;31mKeyError\u001B[0m                                  Traceback (most recent call last)",
      "Input \u001B[1;32mIn [6]\u001B[0m, in \u001B[0;36m<cell line: 2>\u001B[1;34m()\u001B[0m\n\u001B[0;32m      1\u001B[0m german_w_fp \u001B[38;5;241m=\u001B[39m \u001B[38;5;241m0.9\u001B[39m\n\u001B[1;32m----> 2\u001B[0m ours \u001B[38;5;241m=\u001B[39m \u001B[43mBiasBalancer\u001B[49m\u001B[43m(\u001B[49m\n\u001B[0;32m      3\u001B[0m \u001B[43m    \u001B[49m\u001B[43mdata\u001B[49m\u001B[43m \u001B[49m\u001B[38;5;241;43m=\u001B[39;49m\u001B[43m \u001B[49m\u001B[43mour_preds\u001B[49m\u001B[43m,\u001B[49m\n\u001B[0;32m      4\u001B[0m \u001B[43m    \u001B[49m\u001B[43my_name\u001B[49m\u001B[43m \u001B[49m\u001B[38;5;241;43m=\u001B[39;49m\u001B[43m \u001B[49m\u001B[38;5;124;43m\"\u001B[39;49m\u001B[38;5;124;43mcredit_score\u001B[39;49m\u001B[38;5;124;43m\"\u001B[39;49m\u001B[43m,\u001B[49m\n\u001B[0;32m      5\u001B[0m \u001B[43m    \u001B[49m\u001B[43my_hat_name\u001B[49m\u001B[43m \u001B[49m\u001B[38;5;241;43m=\u001B[39;49m\u001B[43m \u001B[49m\u001B[38;5;124;43m\"\u001B[39;49m\u001B[38;5;124;43mnn_pred\u001B[39;49m\u001B[38;5;124;43m\"\u001B[39;49m\u001B[43m,\u001B[49m\n\u001B[0;32m      6\u001B[0m \u001B[43m    \u001B[49m\u001B[43ma_name\u001B[49m\u001B[43m \u001B[49m\u001B[38;5;241;43m=\u001B[39;49m\u001B[43m \u001B[49m\u001B[38;5;124;43m\"\u001B[39;49m\u001B[38;5;124;43mpersonal_status\u001B[39;49m\u001B[38;5;124;43m\"\u001B[39;49m\u001B[43m,\u001B[49m\n\u001B[0;32m      7\u001B[0m \u001B[43m    \u001B[49m\u001B[43mr_name\u001B[49m\u001B[43m \u001B[49m\u001B[38;5;241;43m=\u001B[39;49m\u001B[43m \u001B[49m\u001B[38;5;124;43m\"\u001B[39;49m\u001B[38;5;124;43mnn_prob\u001B[39;49m\u001B[38;5;124;43m\"\u001B[39;49m\u001B[43m,\u001B[49m\n\u001B[0;32m      8\u001B[0m \u001B[43m    \u001B[49m\u001B[43mw_fp\u001B[49m\u001B[43m \u001B[49m\u001B[38;5;241;43m=\u001B[39;49m\u001B[43m \u001B[49m\u001B[43mgerman_w_fp\u001B[49m\u001B[43m,\u001B[49m\n\u001B[0;32m      9\u001B[0m \u001B[43m    \u001B[49m\u001B[43mmodel_name\u001B[49m\u001B[38;5;241;43m=\u001B[39;49m\u001B[38;5;124;43m'\u001B[39;49m\u001B[38;5;124;43mGerman Credit Scores\u001B[39;49m\u001B[38;5;124;43m'\u001B[39;49m\u001B[43m)\u001B[49m\n",
      "File \u001B[1;32m~\\Documents\\GitHub\\Fairness-oriented-interpretability-of-predictive-algorithms\\src_biasbalancer\\biasbalancer\\balancer.py:84\u001B[0m, in \u001B[0;36mBiasBalancer.__init__\u001B[1;34m(self, data, y_name, y_hat_name, a_name, r_name, w_fp, model_name, **kwargs)\u001B[0m\n\u001B[0;32m     81\u001B[0m \u001B[38;5;28mself\u001B[39m\u001B[38;5;241m.\u001B[39mn \u001B[38;5;241m=\u001B[39m data\u001B[38;5;241m.\u001B[39mshape[\u001B[38;5;241m0\u001B[39m]\n\u001B[0;32m     83\u001B[0m \u001B[38;5;28mself\u001B[39m\u001B[38;5;241m.\u001B[39mcm \u001B[38;5;241m=\u001B[39m \u001B[38;5;28mself\u001B[39m\u001B[38;5;241m.\u001B[39mget_confusion_matrix()\n\u001B[1;32m---> 84\u001B[0m \u001B[38;5;28mself\u001B[39m\u001B[38;5;241m.\u001B[39mrates \u001B[38;5;241m=\u001B[39m \u001B[38;5;28;43mself\u001B[39;49m\u001B[38;5;241;43m.\u001B[39;49m\u001B[43mget_rates\u001B[49m\u001B[43m(\u001B[49m\u001B[43m)\u001B[49m\n\u001B[0;32m     85\u001B[0m \u001B[38;5;28mself\u001B[39m\u001B[38;5;241m.\u001B[39mWMR_rates \u001B[38;5;241m=\u001B[39m \u001B[38;5;28mself\u001B[39m\u001B[38;5;241m.\u001B[39mget_WMR_rates(w_fp\u001B[38;5;241m=\u001B[39m\u001B[38;5;28mself\u001B[39m\u001B[38;5;241m.\u001B[39mw_fp)\n\u001B[0;32m     86\u001B[0m \u001B[38;5;28mself\u001B[39m\u001B[38;5;241m.\u001B[39mrel_rates \u001B[38;5;241m=\u001B[39m \u001B[38;5;28mself\u001B[39m\u001B[38;5;241m.\u001B[39mget_relative_rates()\n",
      "File \u001B[1;32m~\\Documents\\GitHub\\Fairness-oriented-interpretability-of-predictive-algorithms\\src_biasbalancer\\biasbalancer\\balancer.py:385\u001B[0m, in \u001B[0;36mBiasBalancer.get_rates\u001B[1;34m(self, plot)\u001B[0m\n\u001B[0;32m    383\u001B[0m rates \u001B[38;5;241m=\u001B[39m []\n\u001B[0;32m    384\u001B[0m \u001B[38;5;28;01mfor\u001B[39;00m grp \u001B[38;5;129;01min\u001B[39;00m \u001B[38;5;28mself\u001B[39m\u001B[38;5;241m.\u001B[39msens_grps:\n\u001B[1;32m--> 385\u001B[0m     TP, FN, FP, TN \u001B[38;5;241m=\u001B[39m \u001B[43mbbutils\u001B[49m\u001B[38;5;241;43m.\u001B[39;49m\u001B[43mextract_cm_values\u001B[49m\u001B[43m(\u001B[49m\u001B[38;5;28;43mself\u001B[39;49m\u001B[38;5;241;43m.\u001B[39;49m\u001B[43mcm\u001B[49m\u001B[43m,\u001B[49m\u001B[43m \u001B[49m\u001B[43mgrp\u001B[49m\u001B[43m)\u001B[49m\n\u001B[0;32m    386\u001B[0m     rates_grp \u001B[38;5;241m=\u001B[39m (pd\u001B[38;5;241m.\u001B[39mDataFrame(\n\u001B[0;32m    387\u001B[0m         [[\u001B[38;5;124m'\u001B[39m\u001B[38;5;124mFNR\u001B[39m\u001B[38;5;124m'\u001B[39m, FN, (TP \u001B[38;5;241m+\u001B[39m FN)],\n\u001B[0;32m    388\u001B[0m          [\u001B[38;5;124m'\u001B[39m\u001B[38;5;124mFPR\u001B[39m\u001B[38;5;124m'\u001B[39m, FP, (TN \u001B[38;5;241m+\u001B[39m FP)],\n\u001B[1;32m   (...)\u001B[0m\n\u001B[0;32m    400\u001B[0m                 x\u001B[38;5;241m.\u001B[39mnumerator, x\u001B[38;5;241m.\u001B[39mdenominator, \u001B[38;5;124m'\u001B[39m\u001B[38;5;124mupr\u001B[39m\u001B[38;5;124m'\u001B[39m))\n\u001B[0;32m    401\u001B[0m     )\n\u001B[0;32m    402\u001B[0m     rates\u001B[38;5;241m.\u001B[39mappend(rates_grp)\n",
      "File \u001B[1;32m~\\Documents\\GitHub\\Fairness-oriented-interpretability-of-predictive-algorithms\\src_biasbalancer\\biasbalancer\\utils.py:170\u001B[0m, in \u001B[0;36mextract_cm_values\u001B[1;34m(df, grp)\u001B[0m\n\u001B[0;32m    159\u001B[0m \u001B[38;5;124;03m\"\"\"Extracts TP, TN, FP and TN from long format confusion matrix\u001B[39;00m\n\u001B[0;32m    160\u001B[0m \n\u001B[0;32m    161\u001B[0m \u001B[38;5;124;03mArgs: \u001B[39;00m\n\u001B[1;32m   (...)\u001B[0m\n\u001B[0;32m    167\u001B[0m \u001B[38;5;124;03m    tuple: Tuple with elements *TP* (true positives), *FN* (false negatives)*FP* (false positives), *TN* (true negatives).\u001B[39;00m\n\u001B[0;32m    168\u001B[0m \u001B[38;5;124;03m\"\"\"\u001B[39;00m\n\u001B[0;32m    169\u001B[0m cm_data \u001B[38;5;241m=\u001B[39m df\u001B[38;5;241m.\u001B[39mquery(\u001B[38;5;124mf\u001B[39m\u001B[38;5;124m\"\u001B[39m\u001B[38;5;124ma==\u001B[39m\u001B[38;5;124m'\u001B[39m\u001B[38;5;132;01m{\u001B[39;00mgrp\u001B[38;5;132;01m}\u001B[39;00m\u001B[38;5;124m'\u001B[39m\u001B[38;5;124m\"\u001B[39m)\u001B[38;5;241m.\u001B[39mset_index(\u001B[38;5;124m'\u001B[39m\u001B[38;5;124mtype_obs\u001B[39m\u001B[38;5;124m'\u001B[39m)\n\u001B[1;32m--> 170\u001B[0m TP \u001B[38;5;241m=\u001B[39m \u001B[43mcm_data\u001B[49m\u001B[38;5;241;43m.\u001B[39;49m\u001B[43mat\u001B[49m\u001B[43m[\u001B[49m\u001B[38;5;124;43m'\u001B[39;49m\u001B[38;5;124;43mTP\u001B[39;49m\u001B[38;5;124;43m'\u001B[39;49m\u001B[43m,\u001B[49m\u001B[43m \u001B[49m\u001B[38;5;124;43m'\u001B[39;49m\u001B[38;5;124;43mnumber_obs\u001B[39;49m\u001B[38;5;124;43m'\u001B[39;49m\u001B[43m]\u001B[49m\n\u001B[0;32m    171\u001B[0m FN \u001B[38;5;241m=\u001B[39m cm_data\u001B[38;5;241m.\u001B[39mat[\u001B[38;5;124m'\u001B[39m\u001B[38;5;124mFN\u001B[39m\u001B[38;5;124m'\u001B[39m, \u001B[38;5;124m'\u001B[39m\u001B[38;5;124mnumber_obs\u001B[39m\u001B[38;5;124m'\u001B[39m]\n\u001B[0;32m    172\u001B[0m FP \u001B[38;5;241m=\u001B[39m cm_data\u001B[38;5;241m.\u001B[39mat[\u001B[38;5;124m'\u001B[39m\u001B[38;5;124mFP\u001B[39m\u001B[38;5;124m'\u001B[39m, \u001B[38;5;124m'\u001B[39m\u001B[38;5;124mnumber_obs\u001B[39m\u001B[38;5;124m'\u001B[39m]\n",
      "File \u001B[1;32m~\\anaconda3\\envs\\fair\\lib\\site-packages\\pandas\\core\\indexing.py:2270\u001B[0m, in \u001B[0;36m_AtIndexer.__getitem__\u001B[1;34m(self, key)\u001B[0m\n\u001B[0;32m   2267\u001B[0m         \u001B[38;5;28;01mraise\u001B[39;00m \u001B[38;5;167;01mValueError\u001B[39;00m(\u001B[38;5;124m\"\u001B[39m\u001B[38;5;124mInvalid call for scalar access (getting)!\u001B[39m\u001B[38;5;124m\"\u001B[39m)\n\u001B[0;32m   2268\u001B[0m     \u001B[38;5;28;01mreturn\u001B[39;00m \u001B[38;5;28mself\u001B[39m\u001B[38;5;241m.\u001B[39mobj\u001B[38;5;241m.\u001B[39mloc[key]\n\u001B[1;32m-> 2270\u001B[0m \u001B[38;5;28;01mreturn\u001B[39;00m \u001B[38;5;28;43msuper\u001B[39;49m\u001B[43m(\u001B[49m\u001B[43m)\u001B[49m\u001B[38;5;241;43m.\u001B[39;49m\u001B[38;5;21;43m__getitem__\u001B[39;49m\u001B[43m(\u001B[49m\u001B[43mkey\u001B[49m\u001B[43m)\u001B[49m\n",
      "File \u001B[1;32m~\\anaconda3\\envs\\fair\\lib\\site-packages\\pandas\\core\\indexing.py:2221\u001B[0m, in \u001B[0;36m_ScalarAccessIndexer.__getitem__\u001B[1;34m(self, key)\u001B[0m\n\u001B[0;32m   2218\u001B[0m         \u001B[38;5;28;01mraise\u001B[39;00m \u001B[38;5;167;01mValueError\u001B[39;00m(\u001B[38;5;124m\"\u001B[39m\u001B[38;5;124mInvalid call for scalar access (getting)!\u001B[39m\u001B[38;5;124m\"\u001B[39m)\n\u001B[0;32m   2220\u001B[0m key \u001B[38;5;241m=\u001B[39m \u001B[38;5;28mself\u001B[39m\u001B[38;5;241m.\u001B[39m_convert_key(key)\n\u001B[1;32m-> 2221\u001B[0m \u001B[38;5;28;01mreturn\u001B[39;00m \u001B[38;5;28;43mself\u001B[39;49m\u001B[38;5;241;43m.\u001B[39;49m\u001B[43mobj\u001B[49m\u001B[38;5;241;43m.\u001B[39;49m\u001B[43m_get_value\u001B[49m\u001B[43m(\u001B[49m\u001B[38;5;241;43m*\u001B[39;49m\u001B[43mkey\u001B[49m\u001B[43m,\u001B[49m\u001B[43m \u001B[49m\u001B[43mtakeable\u001B[49m\u001B[38;5;241;43m=\u001B[39;49m\u001B[38;5;28;43mself\u001B[39;49m\u001B[38;5;241;43m.\u001B[39;49m\u001B[43m_takeable\u001B[49m\u001B[43m)\u001B[49m\n",
      "File \u001B[1;32m~\\anaconda3\\envs\\fair\\lib\\site-packages\\pandas\\core\\frame.py:3622\u001B[0m, in \u001B[0;36mDataFrame._get_value\u001B[1;34m(self, index, col, takeable)\u001B[0m\n\u001B[0;32m   3616\u001B[0m engine \u001B[38;5;241m=\u001B[39m \u001B[38;5;28mself\u001B[39m\u001B[38;5;241m.\u001B[39mindex\u001B[38;5;241m.\u001B[39m_engine\n\u001B[0;32m   3618\u001B[0m \u001B[38;5;28;01mif\u001B[39;00m \u001B[38;5;129;01mnot\u001B[39;00m \u001B[38;5;28misinstance\u001B[39m(\u001B[38;5;28mself\u001B[39m\u001B[38;5;241m.\u001B[39mindex, MultiIndex):\n\u001B[0;32m   3619\u001B[0m     \u001B[38;5;66;03m# CategoricalIndex: Trying to use the engine fastpath may give incorrect\u001B[39;00m\n\u001B[0;32m   3620\u001B[0m     \u001B[38;5;66;03m#  results if our categories are integers that dont match our codes\u001B[39;00m\n\u001B[0;32m   3621\u001B[0m     \u001B[38;5;66;03m# IntervalIndex: IntervalTree has no get_loc\u001B[39;00m\n\u001B[1;32m-> 3622\u001B[0m     row \u001B[38;5;241m=\u001B[39m \u001B[38;5;28;43mself\u001B[39;49m\u001B[38;5;241;43m.\u001B[39;49m\u001B[43mindex\u001B[49m\u001B[38;5;241;43m.\u001B[39;49m\u001B[43mget_loc\u001B[49m\u001B[43m(\u001B[49m\u001B[43mindex\u001B[49m\u001B[43m)\u001B[49m\n\u001B[0;32m   3623\u001B[0m     \u001B[38;5;28;01mreturn\u001B[39;00m series\u001B[38;5;241m.\u001B[39m_values[row]\n\u001B[0;32m   3625\u001B[0m \u001B[38;5;66;03m# For MultiIndex going through engine effectively restricts us to\u001B[39;00m\n\u001B[0;32m   3626\u001B[0m \u001B[38;5;66;03m#  same-length tuples; see test_get_set_value_no_partial_indexing\u001B[39;00m\n",
      "File \u001B[1;32m~\\anaconda3\\envs\\fair\\lib\\site-packages\\pandas\\core\\indexes\\base.py:3623\u001B[0m, in \u001B[0;36mIndex.get_loc\u001B[1;34m(self, key, method, tolerance)\u001B[0m\n\u001B[0;32m   3621\u001B[0m     \u001B[38;5;28;01mreturn\u001B[39;00m \u001B[38;5;28mself\u001B[39m\u001B[38;5;241m.\u001B[39m_engine\u001B[38;5;241m.\u001B[39mget_loc(casted_key)\n\u001B[0;32m   3622\u001B[0m \u001B[38;5;28;01mexcept\u001B[39;00m \u001B[38;5;167;01mKeyError\u001B[39;00m \u001B[38;5;28;01mas\u001B[39;00m err:\n\u001B[1;32m-> 3623\u001B[0m     \u001B[38;5;28;01mraise\u001B[39;00m \u001B[38;5;167;01mKeyError\u001B[39;00m(key) \u001B[38;5;28;01mfrom\u001B[39;00m \u001B[38;5;21;01merr\u001B[39;00m\n\u001B[0;32m   3624\u001B[0m \u001B[38;5;28;01mexcept\u001B[39;00m \u001B[38;5;167;01mTypeError\u001B[39;00m:\n\u001B[0;32m   3625\u001B[0m     \u001B[38;5;66;03m# If we have a listlike key, _check_indexing_error will raise\u001B[39;00m\n\u001B[0;32m   3626\u001B[0m     \u001B[38;5;66;03m#  InvalidIndexError. Otherwise we fall through and re-raise\u001B[39;00m\n\u001B[0;32m   3627\u001B[0m     \u001B[38;5;66;03m#  the TypeError.\u001B[39;00m\n\u001B[0;32m   3628\u001B[0m     \u001B[38;5;28mself\u001B[39m\u001B[38;5;241m.\u001B[39m_check_indexing_error(key)\n",
      "\u001B[1;31mKeyError\u001B[0m: 'TP'"
     ]
    }
   ],
   "source": [
    "german_w_fp = 0.9\n",
    "ours = BiasBalancer(\n",
    "    data = our_preds,\n",
    "    y_name = \"credit_score\",\n",
    "    y_hat_name = \"nn_pred\",\n",
    "    a_name = \"personal_status\",\n",
    "    r_name = \"nn_prob\",\n",
    "    w_fp = german_w_fp,\n",
    "    model_name='German Credit Scores')\n",
    "#this does not work...."
   ],
   "metadata": {
    "collapsed": false,
    "pycharm": {
     "name": "#%%\n"
    }
   }
  },
  {
   "cell_type": "code",
   "execution_count": null,
   "outputs": [],
   "source": [],
   "metadata": {
    "collapsed": false,
    "pycharm": {
     "name": "#%%\n"
    }
   }
  },
  {
   "cell_type": "code",
   "execution_count": null,
   "outputs": [],
   "source": [],
   "metadata": {
    "collapsed": false,
    "pycharm": {
     "name": "#%%\n"
    }
   }
  },
  {
   "cell_type": "code",
   "execution_count": null,
   "outputs": [],
   "source": [],
   "metadata": {
    "collapsed": false,
    "pycharm": {
     "name": "#%%\n"
    }
   }
  },
  {
   "cell_type": "code",
   "execution_count": null,
   "outputs": [],
   "source": [],
   "metadata": {
    "collapsed": false,
    "pycharm": {
     "name": "#%%\n"
    }
   }
  },
  {
   "cell_type": "code",
   "execution_count": null,
   "outputs": [],
   "source": [],
   "metadata": {
    "collapsed": false,
    "pycharm": {
     "name": "#%%\n"
    }
   }
  },
  {
   "cell_type": "code",
   "execution_count": null,
   "outputs": [],
   "source": [],
   "metadata": {
    "collapsed": false,
    "pycharm": {
     "name": "#%%\n"
    }
   }
  },
  {
   "cell_type": "code",
   "execution_count": null,
   "outputs": [],
   "source": [],
   "metadata": {
    "collapsed": false,
    "pycharm": {
     "name": "#%%\n"
    }
   }
  },
  {
   "cell_type": "code",
   "execution_count": null,
   "outputs": [],
   "source": [],
   "metadata": {
    "collapsed": false,
    "pycharm": {
     "name": "#%%\n"
    }
   }
  },
  {
   "cell_type": "code",
   "execution_count": 36,
   "outputs": [],
   "source": [],
   "metadata": {
    "collapsed": false,
    "pycharm": {
     "name": "#%%\n"
    }
   }
  }
 ],
 "metadata": {
  "kernelspec": {
   "display_name": "Python 3",
   "language": "python",
   "name": "python3"
  },
  "language_info": {
   "codemirror_mode": {
    "name": "ipython",
    "version": 2
   },
   "file_extension": ".py",
   "mimetype": "text/x-python",
   "name": "python",
   "nbconvert_exporter": "python",
   "pygments_lexer": "ipython2",
   "version": "2.7.6"
  }
 },
 "nbformat": 4,
 "nbformat_minor": 0
}